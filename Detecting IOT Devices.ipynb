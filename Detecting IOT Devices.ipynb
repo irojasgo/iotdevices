{
 "cells": [
  {
   "cell_type": "markdown",
   "metadata": {},
   "source": [
    "# Project 7: IOT Device Identification | Telling devices appart using Gradient Boosted Trees\n",
    "- Identified different IOT devices based on metrics associated with the same\n",
    "- Cross validation and Grid Search for model perforance evaluation"
   ]
  },
  {
   "cell_type": "code",
   "execution_count": 49,
   "metadata": {},
   "outputs": [
    {
     "name": "stderr",
     "output_type": "stream",
     "text": [
      "C:\\Users\\Ivan\\AppData\\Local\\Temp\\ipykernel_17352\\2458507087.py:7: FutureWarning: The frame.append method is deprecated and will be removed from pandas in a future version. Use pandas.concat instead.\n",
      "  all_data = train_data.append(test_data)\n"
     ]
    },
    {
     "data": {
      "text/html": [
       "<div>\n",
       "<style scoped>\n",
       "    .dataframe tbody tr th:only-of-type {\n",
       "        vertical-align: middle;\n",
       "    }\n",
       "\n",
       "    .dataframe tbody tr th {\n",
       "        vertical-align: top;\n",
       "    }\n",
       "\n",
       "    .dataframe thead th {\n",
       "        text-align: right;\n",
       "    }\n",
       "</style>\n",
       "<table border=\"1\" class=\"dataframe\">\n",
       "  <thead>\n",
       "    <tr style=\"text-align: right;\">\n",
       "      <th></th>\n",
       "      <th>ack</th>\n",
       "      <th>ack_A</th>\n",
       "      <th>ack_B</th>\n",
       "      <th>bytes</th>\n",
       "      <th>bytes_A</th>\n",
       "      <th>bytes_A_B_ratio</th>\n",
       "      <th>bytes_B</th>\n",
       "      <th>ds_field_A</th>\n",
       "      <th>ds_field_B</th>\n",
       "      <th>duration</th>\n",
       "      <th>...</th>\n",
       "      <th>suffix_is_co.il</th>\n",
       "      <th>suffix_is_com</th>\n",
       "      <th>suffix_is_com.sg</th>\n",
       "      <th>suffix_is_else</th>\n",
       "      <th>suffix_is_empty_char_value</th>\n",
       "      <th>suffix_is_googleapis.com</th>\n",
       "      <th>suffix_is_net</th>\n",
       "      <th>suffix_is_org</th>\n",
       "      <th>suffix_is_unresolved</th>\n",
       "      <th>device_category</th>\n",
       "    </tr>\n",
       "  </thead>\n",
       "  <tbody>\n",
       "    <tr>\n",
       "      <th>0</th>\n",
       "      <td>9</td>\n",
       "      <td>5</td>\n",
       "      <td>5</td>\n",
       "      <td>1213</td>\n",
       "      <td>743</td>\n",
       "      <td>0.713924</td>\n",
       "      <td>668</td>\n",
       "      <td>0</td>\n",
       "      <td>0</td>\n",
       "      <td>1.5756</td>\n",
       "      <td>...</td>\n",
       "      <td>0</td>\n",
       "      <td>0</td>\n",
       "      <td>0</td>\n",
       "      <td>1</td>\n",
       "      <td>0</td>\n",
       "      <td>0</td>\n",
       "      <td>0</td>\n",
       "      <td>0</td>\n",
       "      <td>0</td>\n",
       "      <td>security_camera</td>\n",
       "    </tr>\n",
       "    <tr>\n",
       "      <th>1</th>\n",
       "      <td>9</td>\n",
       "      <td>5</td>\n",
       "      <td>5</td>\n",
       "      <td>1213</td>\n",
       "      <td>743</td>\n",
       "      <td>1.806874</td>\n",
       "      <td>668</td>\n",
       "      <td>0</td>\n",
       "      <td>0</td>\n",
       "      <td>0.6890</td>\n",
       "      <td>...</td>\n",
       "      <td>0</td>\n",
       "      <td>0</td>\n",
       "      <td>0</td>\n",
       "      <td>1</td>\n",
       "      <td>0</td>\n",
       "      <td>0</td>\n",
       "      <td>0</td>\n",
       "      <td>0</td>\n",
       "      <td>0</td>\n",
       "      <td>security_camera</td>\n",
       "    </tr>\n",
       "    <tr>\n",
       "      <th>2</th>\n",
       "      <td>9</td>\n",
       "      <td>5</td>\n",
       "      <td>5</td>\n",
       "      <td>1213</td>\n",
       "      <td>743</td>\n",
       "      <td>0.103124</td>\n",
       "      <td>668</td>\n",
       "      <td>0</td>\n",
       "      <td>0</td>\n",
       "      <td>0.9852</td>\n",
       "      <td>...</td>\n",
       "      <td>0</td>\n",
       "      <td>0</td>\n",
       "      <td>0</td>\n",
       "      <td>1</td>\n",
       "      <td>0</td>\n",
       "      <td>0</td>\n",
       "      <td>0</td>\n",
       "      <td>0</td>\n",
       "      <td>0</td>\n",
       "      <td>security_camera</td>\n",
       "    </tr>\n",
       "    <tr>\n",
       "      <th>3</th>\n",
       "      <td>9</td>\n",
       "      <td>5</td>\n",
       "      <td>5</td>\n",
       "      <td>1213</td>\n",
       "      <td>743</td>\n",
       "      <td>1.806874</td>\n",
       "      <td>668</td>\n",
       "      <td>0</td>\n",
       "      <td>0</td>\n",
       "      <td>1.5756</td>\n",
       "      <td>...</td>\n",
       "      <td>0</td>\n",
       "      <td>0</td>\n",
       "      <td>0</td>\n",
       "      <td>1</td>\n",
       "      <td>0</td>\n",
       "      <td>0</td>\n",
       "      <td>0</td>\n",
       "      <td>0</td>\n",
       "      <td>0</td>\n",
       "      <td>security_camera</td>\n",
       "    </tr>\n",
       "    <tr>\n",
       "      <th>4</th>\n",
       "      <td>9</td>\n",
       "      <td>5</td>\n",
       "      <td>5</td>\n",
       "      <td>1213</td>\n",
       "      <td>743</td>\n",
       "      <td>1.806874</td>\n",
       "      <td>668</td>\n",
       "      <td>0</td>\n",
       "      <td>0</td>\n",
       "      <td>1.5756</td>\n",
       "      <td>...</td>\n",
       "      <td>0</td>\n",
       "      <td>0</td>\n",
       "      <td>0</td>\n",
       "      <td>1</td>\n",
       "      <td>0</td>\n",
       "      <td>0</td>\n",
       "      <td>0</td>\n",
       "      <td>0</td>\n",
       "      <td>0</td>\n",
       "      <td>security_camera</td>\n",
       "    </tr>\n",
       "  </tbody>\n",
       "</table>\n",
       "<p>5 rows × 298 columns</p>\n",
       "</div>"
      ],
      "text/plain": [
       "   ack  ack_A  ack_B  bytes  bytes_A  bytes_A_B_ratio  bytes_B  ds_field_A  \\\n",
       "0    9      5      5   1213      743         0.713924      668           0   \n",
       "1    9      5      5   1213      743         1.806874      668           0   \n",
       "2    9      5      5   1213      743         0.103124      668           0   \n",
       "3    9      5      5   1213      743         1.806874      668           0   \n",
       "4    9      5      5   1213      743         1.806874      668           0   \n",
       "\n",
       "   ds_field_B  duration  ...  suffix_is_co.il  suffix_is_com  \\\n",
       "0           0    1.5756  ...                0              0   \n",
       "1           0    0.6890  ...                0              0   \n",
       "2           0    0.9852  ...                0              0   \n",
       "3           0    1.5756  ...                0              0   \n",
       "4           0    1.5756  ...                0              0   \n",
       "\n",
       "   suffix_is_com.sg  suffix_is_else  suffix_is_empty_char_value  \\\n",
       "0                 0               1                           0   \n",
       "1                 0               1                           0   \n",
       "2                 0               1                           0   \n",
       "3                 0               1                           0   \n",
       "4                 0               1                           0   \n",
       "\n",
       "   suffix_is_googleapis.com  suffix_is_net  suffix_is_org  \\\n",
       "0                         0              0              0   \n",
       "1                         0              0              0   \n",
       "2                         0              0              0   \n",
       "3                         0              0              0   \n",
       "4                         0              0              0   \n",
       "\n",
       "   suffix_is_unresolved  device_category  \n",
       "0                     0  security_camera  \n",
       "1                     0  security_camera  \n",
       "2                     0  security_camera  \n",
       "3                     0  security_camera  \n",
       "4                     0  security_camera  \n",
       "\n",
       "[5 rows x 298 columns]"
      ]
     },
     "execution_count": 49,
     "metadata": {},
     "output_type": "execute_result"
    }
   ],
   "source": [
    "#First, we call the libraries we need for initial processing\n",
    "#I'll merge training and testing sets to have more control over the test/train data ratio\n",
    "import pandas as pd\n",
    "import seaborn as sns\n",
    "import matplotlib.pyplot as plt\n",
    "sns.set(rc={'figure.figsize':(11.7,8.27)})\n",
    "train_data = pd.read_csv('https://raw.githubusercontent.com/PacktPublishing/Machine-Learning-for-Cybersecurity-Cookbook/master/Chapter05/IoT%20Device%20Type%20Identification%20Using%20Machine%20Learning/iot_devices_train.csv')\n",
    "test_data = pd.read_csv('https://raw.githubusercontent.com/PacktPublishing/Machine-Learning-for-Cybersecurity-Cookbook/master/Chapter05/IoT%20Device%20Type%20Identification%20Using%20Machine%20Learning/iot_devices_test.csv')\n",
    "all_data = train_data.append(test_data)\n",
    "all_data.to_csv('IOT Data.csv')\n",
    "all_data.head()"
   ]
  },
  {
   "cell_type": "code",
   "execution_count": 51,
   "metadata": {},
   "outputs": [
    {
     "data": {
      "text/plain": [
       "1900"
      ]
     },
     "execution_count": 51,
     "metadata": {},
     "output_type": "execute_result"
    }
   ],
   "source": [
    "#Taking a look at the data length\n",
    "len(all_data)"
   ]
  },
  {
   "cell_type": "code",
   "execution_count": 52,
   "metadata": {},
   "outputs": [
    {
     "data": {
      "text/plain": [
       "([0, 1, 2, 3, 4, 5, 6, 7, 8, 9],\n",
       " [Text(0, 0, 'security_camera'),\n",
       "  Text(1, 0, 'TV'),\n",
       "  Text(2, 0, 'smoke_detector'),\n",
       "  Text(3, 0, 'thermostat'),\n",
       "  Text(4, 0, 'water_sensor'),\n",
       "  Text(5, 0, 'watch'),\n",
       "  Text(6, 0, 'baby_monitor'),\n",
       "  Text(7, 0, 'motion_sensor'),\n",
       "  Text(8, 0, 'lights'),\n",
       "  Text(9, 0, 'socket')])"
      ]
     },
     "execution_count": 52,
     "metadata": {},
     "output_type": "execute_result"
    },
    {
     "data": {
      "image/png": "[encoded data removed]",
      "text/plain": [
       "<Figure size 500x500 with 1 Axes>"
      ]
     },
     "metadata": {},
     "output_type": "display_data"
    }
   ],
   "source": [
    "#Checking how balanced categories are\n",
    "sns.displot(all_data['device_category'])\n",
    "plt.xticks(rotation=90)"
   ]
  },
  {
   "cell_type": "code",
   "execution_count": 53,
   "metadata": {},
   "outputs": [],
   "source": [
    "#Mapped data labels to a number in order to feed this data into the model\n",
    "device_mapper = {\n",
    "'security_camera':0,\n",
    "'TV':1,\n",
    "'smoke_detector':2,\n",
    "'thermostat':3,\n",
    "'water_sensor':4,\n",
    "'watch':5,\n",
    "'baby_monitor':6,\n",
    "'motion_sensor':7,\n",
    "'lights':8,\n",
    "'socket':9\n",
    "}\n",
    "all_data['device_category'] = all_data['device_category'].map(device_mapper)"
   ]
  },
  {
   "cell_type": "code",
   "execution_count": 54,
   "metadata": {},
   "outputs": [],
   "source": [
    "#Defining train variables and target variable\n",
    "X = all_data.drop(['device_category'],axis=1)\n",
    "y = all_data['device_category']"
   ]
  },
  {
   "cell_type": "code",
   "execution_count": 55,
   "metadata": {},
   "outputs": [],
   "source": [
    "#Splitting data between train and test set\n",
    "from sklearn.model_selection import train_test_split, GridSearchCV\n",
    "X_train, X_test, y_train, y_test = train_test_split(X,y,train_size=0.8,random_state=101)"
   ]
  },
  {
   "cell_type": "code",
   "execution_count": 56,
   "metadata": {},
   "outputs": [],
   "source": [
    "#Importin preprocessing lbirary as well as metrics\n",
    "from sklearn.preprocessing import StandardScaler\n",
    "from sklearn.metrics import classification_report,confusion_matrix\n",
    "scaler = StandardScaler()\n",
    "X_train_transformed = scaler.fit_transform(X_train)\n",
    "X_test_transformed= scaler.transform(X_test)"
   ]
  },
  {
   "cell_type": "code",
   "execution_count": 57,
   "metadata": {},
   "outputs": [
    {
     "name": "stdout",
     "output_type": "stream",
     "text": [
      "{'max_depth': 3, 'n_estimators': 200}\n",
      "{'mean_fit_time': array([11.36688664, 25.33994305, 47.56575353, 57.22968271, 66.84832106,\n",
      "       18.00750556, 37.15443256, 64.72606292, 71.33766983, 79.46462245,\n",
      "       33.52359276, 64.26488373, 75.39816635, 76.71407371, 70.22131329]), 'std_fit_time': array([0.1634266 , 0.67410429, 1.32632671, 1.58655135, 1.20925804,\n",
      "       0.35690766, 1.16606246, 1.37980046, 1.57691833, 0.66720414,\n",
      "       0.3987389 , 1.1801247 , 3.36568362, 3.36849034, 8.4689729 ]), 'mean_score_time': array([0.0033999 , 0.00349987, 0.00649893, 0.00700037, 0.00817728,\n",
      "       0.00337799, 0.00550003, 0.00919921, 0.00979991, 0.01070054,\n",
      "       0.00650003, 0.01139953, 0.01259933, 0.01459992, 0.01119964]), 'std_score_time': array([0.00269005, 0.00049985, 0.00128511, 0.00089431, 0.00075687,\n",
      "       0.00068027, 0.00067102, 0.00098016, 0.00060024, 0.0009    ,\n",
      "       0.00080627, 0.00101957, 0.00080096, 0.00427105, 0.00087104]), 'param_max_depth': masked_array(data=[3, 3, 3, 3, 3, 5, 5, 5, 5, 5, 10, 10, 10, 10, 10],\n",
      "             mask=[False, False, False, False, False, False, False, False,\n",
      "                   False, False, False, False, False, False, False],\n",
      "       fill_value='?',\n",
      "            dtype=object), 'param_n_estimators': masked_array(data=[50, 100, 200, 250, 300, 50, 100, 200, 250, 300, 50,\n",
      "                   100, 200, 250, 300],\n",
      "             mask=[False, False, False, False, False, False, False, False,\n",
      "                   False, False, False, False, False, False, False],\n",
      "       fill_value='?',\n",
      "            dtype=object), 'params': [{'max_depth': 3, 'n_estimators': 50}, {'max_depth': 3, 'n_estimators': 100}, {'max_depth': 3, 'n_estimators': 200}, {'max_depth': 3, 'n_estimators': 250}, {'max_depth': 3, 'n_estimators': 300}, {'max_depth': 5, 'n_estimators': 50}, {'max_depth': 5, 'n_estimators': 100}, {'max_depth': 5, 'n_estimators': 200}, {'max_depth': 5, 'n_estimators': 250}, {'max_depth': 5, 'n_estimators': 300}, {'max_depth': 10, 'n_estimators': 50}, {'max_depth': 10, 'n_estimators': 100}, {'max_depth': 10, 'n_estimators': 200}, {'max_depth': 10, 'n_estimators': 250}, {'max_depth': 10, 'n_estimators': 300}], 'split0_test_score': array([0.90131579, 0.90789474, 0.92105263, 0.90789474, 0.90789474,\n",
      "       0.93421053, 0.93421053, 0.92763158, 0.92105263, 0.92105263,\n",
      "       0.90131579, 0.90131579, 0.91447368, 0.92763158, 0.90789474]), 'split1_test_score': array([0.88157895, 0.88815789, 0.88157895, 0.88815789, 0.88157895,\n",
      "       0.88157895, 0.88815789, 0.88157895, 0.88157895, 0.88157895,\n",
      "       0.86842105, 0.86842105, 0.875     , 0.875     , 0.88157895]), 'split2_test_score': array([0.84868421, 0.86842105, 0.84868421, 0.85526316, 0.85526316,\n",
      "       0.82236842, 0.82894737, 0.84210526, 0.84868421, 0.84210526,\n",
      "       0.81578947, 0.82894737, 0.85526316, 0.84868421, 0.84868421]), 'split3_test_score': array([0.84868421, 0.86184211, 0.86842105, 0.875     , 0.875     ,\n",
      "       0.88157895, 0.88815789, 0.88815789, 0.88157895, 0.88815789,\n",
      "       0.875     , 0.88157895, 0.89473684, 0.89473684, 0.89473684]), 'split4_test_score': array([0.85526316, 0.84210526, 0.84210526, 0.82894737, 0.82894737,\n",
      "       0.85526316, 0.84210526, 0.83552632, 0.84210526, 0.83552632,\n",
      "       0.84210526, 0.82894737, 0.84210526, 0.82236842, 0.84210526]), 'split5_test_score': array([0.875     , 0.88157895, 0.90131579, 0.90131579, 0.90131579,\n",
      "       0.875     , 0.875     , 0.875     , 0.88157895, 0.88815789,\n",
      "       0.86842105, 0.88157895, 0.90131579, 0.90131579, 0.90131579]), 'split6_test_score': array([0.86184211, 0.88815789, 0.88815789, 0.88815789, 0.90131579,\n",
      "       0.86842105, 0.875     , 0.875     , 0.875     , 0.875     ,\n",
      "       0.90131579, 0.90789474, 0.88815789, 0.88815789, 0.90789474]), 'split7_test_score': array([0.86842105, 0.875     , 0.86842105, 0.85526316, 0.875     ,\n",
      "       0.84868421, 0.84868421, 0.86842105, 0.875     , 0.86842105,\n",
      "       0.85526316, 0.85526316, 0.85526316, 0.89473684, 0.875     ]), 'split8_test_score': array([0.88815789, 0.875     , 0.89473684, 0.88815789, 0.89473684,\n",
      "       0.90131579, 0.89473684, 0.875     , 0.88157895, 0.89473684,\n",
      "       0.86842105, 0.85526316, 0.875     , 0.88157895, 0.85526316]), 'split9_test_score': array([0.84210526, 0.82894737, 0.84210526, 0.84210526, 0.83552632,\n",
      "       0.82236842, 0.82894737, 0.84210526, 0.82894737, 0.82894737,\n",
      "       0.81578947, 0.82894737, 0.82894737, 0.82236842, 0.82236842]), 'mean_test_score': array([0.86710526, 0.87171053, 0.87565789, 0.87302632, 0.87565789,\n",
      "       0.86907895, 0.87039474, 0.87105263, 0.87171053, 0.87236842,\n",
      "       0.86118421, 0.86381579, 0.87302632, 0.87565789, 0.87368421]), 'std_test_score': array([0.01832683, 0.02186943, 0.02521548, 0.02497402, 0.0263897 ,\n",
      "       0.03255748, 0.03169524, 0.02568319, 0.02466009, 0.02763158,\n",
      "       0.02844206, 0.02791986, 0.02599309, 0.03269015, 0.02864676]), 'rank_test_score': array([13,  9,  1,  5,  3, 12, 11, 10,  8,  7, 15, 14,  5,  1,  4])}\n",
      "              precision    recall  f1-score   support\n",
      "\n",
      "           0       1.00      0.98      0.99        48\n",
      "           1       0.93      0.93      0.93        43\n",
      "           2       1.00      1.00      1.00        38\n",
      "           3       0.95      1.00      0.98        41\n",
      "           4       0.50      0.59      0.54        17\n",
      "           5       0.91      0.91      0.91        33\n",
      "           6       1.00      1.00      1.00        34\n",
      "           7       1.00      0.96      0.98        49\n",
      "           8       0.51      0.53      0.52        36\n",
      "           9       0.58      0.54      0.56        41\n",
      "\n",
      "    accuracy                           0.86       380\n",
      "   macro avg       0.84      0.84      0.84       380\n",
      "weighted avg       0.87      0.86      0.86       380\n",
      "\n"
     ]
    },
    {
     "data": {
      "text/plain": [
       "<AxesSubplot:>"
      ]
     },
     "execution_count": 57,
     "metadata": {},
     "output_type": "execute_result"
    },
    {
     "data": {
      "image/png": "[encoded data removed]",
      "text/plain": [
       "<Figure size 1170x827 with 2 Axes>"
      ]
     },
     "metadata": {},
     "output_type": "display_data"
    }
   ],
   "source": [
    "#We define a GBT model \n",
    "\n",
    "#Gradient Boosted trees\n",
    "from sklearn.ensemble import GradientBoostingClassifier\n",
    "model = GradientBoostingClassifier()\n",
    "params = {\n",
    "    'n_estimators': [50,100,200,250,300],\n",
    "    'max_depth':[3,5,10]\n",
    "}\n",
    "grid = GridSearchCV(estimator=model,param_grid=params, cv=10,n_jobs=-1)\n",
    "# fitting the model for grid search \n",
    "grid.fit(X_train_transformed, y_train) \n",
    " \n",
    "# print best parameter after tuning \n",
    "print(grid.best_params_) \n",
    "y_pred = grid.predict(X_test_transformed) \n",
    "\n",
    "#get scores\n",
    "print(grid.cv_results_) \n",
    "   \n",
    "# print classification report \n",
    "print(classification_report(y_test, y_pred))\n",
    "\n",
    "#print confussion matrix\n",
    "sns.heatmap(confusion_matrix(y_test, y_pred), annot=True, fmt='2g')\n",
    "\n"
   ]
  },
  {
   "cell_type": "code",
   "execution_count": 58,
   "metadata": {},
   "outputs": [
    {
     "name": "stdout",
     "output_type": "stream",
     "text": [
      "              precision    recall  f1-score   support\n",
      "\n",
      "           0       1.00      0.98      0.99        48\n",
      "           1       0.93      0.93      0.93        43\n",
      "           2       1.00      1.00      1.00        38\n",
      "           3       0.95      1.00      0.98        41\n",
      "           4       0.50      0.59      0.54        17\n",
      "           5       0.91      0.91      0.91        33\n",
      "           6       1.00      1.00      1.00        34\n",
      "           7       1.00      0.96      0.98        49\n",
      "           8       0.51      0.53      0.52        36\n",
      "           9       0.58      0.54      0.56        41\n",
      "\n",
      "    accuracy                           0.86       380\n",
      "   macro avg       0.84      0.84      0.84       380\n",
      "weighted avg       0.87      0.86      0.86       380\n",
      "\n"
     ]
    }
   ],
   "source": [
    "# print classification report \n",
    "print(classification_report(y_test, y_pred))\n"
   ]
  },
  {
   "cell_type": "code",
   "execution_count": null,
   "metadata": {},
   "outputs": [],
   "source": []
  }
 ],
 "metadata": {
  "kernelspec": {
   "display_name": "Python 3.9.1 64-bit",
   "language": "python",
   "name": "python3"
  },
  "language_info": {
   "codemirror_mode": {
    "name": "ipython",
    "version": 3
   },
   "file_extension": ".py",
   "mimetype": "text/x-python",
   "name": "python",
   "nbconvert_exporter": "python",
   "pygments_lexer": "ipython3",
   "version": "3.9.1"
  },
  "orig_nbformat": 4,
  "vscode": {
   "interpreter": {
    "hash": "fefe1bf480c11bf003fba226430f9cc6591c2a11b0f80c22005b6e46c2183a03"
   }
  }
 },
 "nbformat": 4,
 "nbformat_minor": 2
}
